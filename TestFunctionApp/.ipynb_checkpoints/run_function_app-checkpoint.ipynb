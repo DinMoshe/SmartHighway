{
 "cells": [
  {
   "cell_type": "code",
   "execution_count": 32,
   "metadata": {},
   "outputs": [],
   "source": [
    "import requests\n",
    "import os\n",
    "import random"
   ]
  },
  {
   "cell_type": "code",
   "execution_count": 33,
   "metadata": {},
   "outputs": [],
   "source": [
    "# video = cv2.VideoCapture('videoTest.mp4')"
   ]
  },
  {
   "cell_type": "code",
   "execution_count": null,
   "metadata": {},
   "outputs": [],
   "source": [
    "url = \"http://localhost:7071/api/ProcessVideo\"\n",
    "# url = \"https://smarthighwayfunctionapp.azurewebsites.net/api/ProcessVideo?\"\n",
    "\n",
    "dir_path = \"./videos\"\n",
    "\n",
    "# random_file = \"video2_Trim.mp4\"\n",
    "random_file = random.choice(os.listdir(dir_path))\n",
    "\n",
    "with open(os.path.join(dir_path, random_file), 'rb') as video:\n",
    "    payload = {'video': video}\n",
    "    my_json = dict({\"lane_id\": \"north_t1\"})\n",
    "    response = requests.post(url, params=my_json, files=payload)\n",
    "    print(response)"
   ]
  },
  {
   "cell_type": "code",
   "execution_count": 37,
   "metadata": {},
   "outputs": [
    {
     "data": {
      "text/plain": [
       "'{\"average_speed\": 18.234165622514585, \"num_moving_cars\": 12}'"
      ]
     },
     "execution_count": 37,
     "metadata": {},
     "output_type": "execute_result"
    }
   ],
   "source": [
    "response.text"
   ]
  },
  {
   "cell_type": "code",
   "execution_count": null,
   "metadata": {},
   "outputs": [],
   "source": []
  }
 ],
 "metadata": {
  "kernelspec": {
   "display_name": "Python 3",
   "language": "python",
   "name": "python3"
  },
  "language_info": {
   "codemirror_mode": {
    "name": "ipython",
    "version": 3
   },
   "file_extension": ".py",
   "mimetype": "text/x-python",
   "name": "python",
   "nbconvert_exporter": "python",
   "pygments_lexer": "ipython3",
   "version": "3.8.5"
  }
 },
 "nbformat": 4,
 "nbformat_minor": 4
}
